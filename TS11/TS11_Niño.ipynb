{
 "cells": [
  {
   "attachments": {},
   "cell_type": "markdown",
   "metadata": {},
   "source": [
    "<img src=\"./logo_UTN.svg\" align=\"right\" width=\"150\" /> \n",
    "\n",
    "#### Teoría de los Circuitos 2\n",
    "\n",
    "# Trabajo Semanal 10\n",
    "\n",
    "### Jorge Andres Niño\n"
   ]
  },
  {
   "attachments": {},
   "cell_type": "markdown",
   "metadata": {},
   "source": [
    "## Consigna"
   ]
  },
  {
   "attachments": {},
   "cell_type": "markdown",
   "metadata": {},
   "source": [
    "Resolver los puntos mostrados a continuación:"
   ]
  },
  {
   "cell_type": "markdown",
   "metadata": {},
   "source": [
    "![*Figura 8*](Ejercicio.png)"
   ]
  },
  {
   "cell_type": "markdown",
   "metadata": {},
   "source": [
    "### Resolución"
   ]
  },
  {
   "cell_type": "markdown",
   "metadata": {},
   "source": [
    "A continuación se muestra la solución a ambos ejercicios:"
   ]
  },
  {
   "cell_type": "code",
   "execution_count": 5,
   "metadata": {},
   "outputs": [
    {
     "data": {
      "text/html": [
       "\n",
       "        <iframe\n",
       "            width=\"1000\"\n",
       "            height=\"1000\"\n",
       "            src=\"./ej1_ts7.pdf\"\n",
       "            frameborder=\"0\"\n",
       "            allowfullscreen\n",
       "            \n",
       "        ></iframe>\n",
       "        "
      ],
      "text/plain": [
       "<IPython.lib.display.IFrame at 0x2486fcc07f0>"
      ]
     },
     "execution_count": 5,
     "metadata": {},
     "output_type": "execute_result"
    }
   ],
   "source": [
    "from IPython.display import IFrame, display\n",
    "IFrame(\"./ej1_ts7.pdf\", width=1000, height=1000)"
   ]
  },
  {
   "attachments": {},
   "cell_type": "markdown",
   "metadata": {},
   "source": [
    "### Respuesta en frecuencia, fase y diagrama de polos y ceros."
   ]
  },
  {
   "attachments": {},
   "cell_type": "markdown",
   "metadata": {},
   "source": [
    "A continuación vamos a simular en python la función transferencia obtenida, para los parametros pedidos, y luego verificaremos con LTSPICE, lo obtenido en la simulación numerica, del ejercicio 2."
   ]
  },
  {
   "cell_type": "code",
   "execution_count": 1,
   "metadata": {},
   "outputs": [],
   "source": [
    "# PyTC2: La librería para TC2\n",
    "from pytc2.sistemas_lineales import pzmap, GroupDelay, bodePlot, analyze_sys, pretty_print_bicuad_omegayq, pretty_print_lti, tf2sos_analog, pretty_print_SOS\n",
    "\n",
    "from scipy import signal as Funcion\n",
    "import numpy as np\n",
    "import matplotlib.pyplot as plt\n",
    "# Módulos para Jupyter\n",
    "\n",
    "import numpy as np\n",
    "import matplotlib as mpl\n",
    "from matplotlib import pyplot as plt\n"
   ]
  },
  {
   "cell_type": "code",
   "execution_count": 2,
   "metadata": {},
   "outputs": [
    {
     "name": "stdout",
     "output_type": "stream",
     "text": [
      "8/15\n",
      "884/1005\n",
      "84/67\n",
      "Ahora los valores intermedios\n",
      "(s + 6)*(7*s + 16)/(15*(s + 1)*(s + 3))\n",
      "15*(17*s + 26)/(52*(7*s + 16))\n",
      "75*s/(52*(s + 6))\n",
      "312*(2*s + 7)/(67*(17*s + 26))\n",
      "67/84\n"
     ]
    },
    {
     "data": {
      "text/plain": [
       "\"\\n# Dibujamos la red resultante:\\n\\nd = dibujar_puerto_entrada('',\\n                        voltage_lbl = ('+', '$V$', '-'), \\n                        current_lbl = '$I$')\\n\\nd, zz_lbl = dibujar_funcion_exc_abajo(d, \\n                                          'Z',  \\n                                          ZZ, \\n                                          hacia_salida = True,\\n                                          k_gap_width = 0.5)\\n\\nd = dibujar_elemento_serie(d, Resistor, Ra)\\n\\nd = dibujar_tanque_RC_derivacion(d, R1, C1)\\n    \\nd = dibujar_elemento_serie(d, Resistor, Rb)\\n\\nd = dibujar_tanque_RC_derivacion(d, R2, C2)\\n                        \\nd = dibujar_espacio_derivacion(d)\\n\\nd = dibujar_elemento_derivacion(d, Resistor, Rc)\\n\\ndisplay(d)\""
      ]
     },
     "execution_count": 2,
     "metadata": {},
     "output_type": "execute_result"
    }
   ],
   "source": [
    "import sympy as sp\n",
    "from pytc2.remociones import remover_valor, remover_polo_sigma\n",
    "from pytc2.dibujar import display, dibujar_puerto_entrada, dibujar_funcion_exc_abajo,  dibujar_elemento_serie, dibujar_espacio_derivacion, Resistor,dibujar_tanque_RC_derivacion, dibujar_elemento_derivacion\n",
    "\n",
    "\n",
    "# Resolución simbólica\n",
    "\n",
    "s = sp.symbols('s ', complex=True)\n",
    "\n",
    "# Sea la siguiente función de excitación\n",
    "ZZ = (s**2+6*s+8)/(s**2+4*s+3)\n",
    "\n",
    "# Halle los valores de los componentes de la topología resultante.\n",
    "\n",
    "# remoción parcial para que el siguiente tanque R1-C1 resuenen a 6 r/s\n",
    "\n",
    "# Consignas del ejercicio: resonancias de dos tanques RC\n",
    "sigma1 = 6\n",
    "sigma2 = sp.Rational('7/2')\n",
    "\n",
    "# La topología circuital guía las remociones:\n",
    "    \n",
    "Z2, Ra = remover_valor(ZZ, sigma_zero = sigma1)\n",
    "\n",
    "Y4, Y3, R1, C1 = remover_polo_sigma(1/Z2, sigma1, isImpedance = False)\n",
    "\n",
    "Z6, Rb = remover_valor(1/Y4, sigma_zero = sigma2)\n",
    "\n",
    "Y8, k2, R2, C2 = remover_polo_sigma(1/Z6, sigma2, isImpedance = False)\n",
    "\n",
    "Rc = 1/Y8\n",
    "print(Ra)\n",
    "print(Rb)\n",
    "print(Rc)\n",
    "print(\"Ahora los valores intermedios\")\n",
    "print(Z2)\n",
    "print(Y4)\n",
    "print(Y3)\n",
    "print(Z6)\n",
    "print(Y8)\n",
    "'''\n",
    "# Dibujamos la red resultante:\n",
    "\n",
    "d = dibujar_puerto_entrada('',\n",
    "                        voltage_lbl = ('+', '$V$', '-'), \n",
    "                        current_lbl = '$I$')\n",
    "\n",
    "d, zz_lbl = dibujar_funcion_exc_abajo(d, \n",
    "                                          'Z',  \n",
    "                                          ZZ, \n",
    "                                          hacia_salida = True,\n",
    "                                          k_gap_width = 0.5)\n",
    "\n",
    "d = dibujar_elemento_serie(d, Resistor, Ra)\n",
    "\n",
    "d = dibujar_tanque_RC_derivacion(d, R1, C1)\n",
    "    \n",
    "d = dibujar_elemento_serie(d, Resistor, Rb)\n",
    "\n",
    "d = dibujar_tanque_RC_derivacion(d, R2, C2)\n",
    "                        \n",
    "d = dibujar_espacio_derivacion(d)\n",
    "\n",
    "d = dibujar_elemento_derivacion(d, Resistor, Rc)\n",
    "\n",
    "display(d)'''"
   ]
  },
  {
   "cell_type": "code",
   "execution_count": 9,
   "metadata": {},
   "outputs": [
    {
     "name": "stdout",
     "output_type": "stream",
     "text": [
      "(2*s**2 + 6*s + 5)/(s**2 + s + 1)\n",
      "s\n",
      "1\n",
      "2\n",
      "5\n",
      "1/2\n",
      "1/16\n",
      "1/4\n",
      "13/48\n",
      "64/13\n",
      "(4*s + 3)/(s**2 + s + 1)\n",
      "(s + 4)/(4*(4*s + 3))\n",
      "13/(16*(4*s + 3))\n"
     ]
    },
    {
     "data": {
      "text/plain": [
       "\"\\n# Dibujamos la red resultante:\\n\\nd = dibujar_puerto_entrada('',\\n                        voltage_lbl = ('+', '$V$', '-'), \\n                        current_lbl = '$I$')\\n\\nd, zz_lbl = dibujar_funcion_exc_abajo(d, \\n                                          'Z',  \\n                                          ZZ, \\n                                          hacia_salida = True,\\n                                          k_gap_width = 0.5)\\n\\nd = dibujar_elemento_derivacion(d, Capacitor, C1)\\n\\nd = dibujar_espacio_derivacion(d)\\n\\nd = dibujar_elemento_derivacion(d, Resistor, R1)\\n    \\nd = dibujar_elemento_serie(d, Inductor, L1)\\n\\nd = dibujar_elemento_serie(d, Resistor, R2)\\n\\nd = dibujar_elemento_derivacion(d, Capacitor, C2)\\n\\nd = dibujar_espacio_derivacion(d)\\n\\nd = dibujar_elemento_derivacion(d, Resistor, R3)\\n\\ndisplay(d)\""
      ]
     },
     "execution_count": 9,
     "metadata": {},
     "output_type": "execute_result"
    }
   ],
   "source": [
    "import sympy as sp\n",
    "from pytc2.remociones import remover_valor, remover_polo_sigma\n",
    "from pytc2.remociones import remover_polo_infinito\n",
    "from pytc2.dibujar import display, dibujar_puerto_entrada, dibujar_funcion_exc_abajo,  dibujar_elemento_serie, dibujar_espacio_derivacion, Resistor,dibujar_tanque_RC_derivacion, dibujar_elemento_derivacion\n",
    "# Resolución simbólica\n",
    "\n",
    "s = sp.symbols('s ', complex=True)\n",
    "\n",
    "ZZ = (s**2+s+1)/(s**2+2*s+5)/(s+1)\n",
    "\n",
    "# remoción total en infinito de 1/ZZ\n",
    "\n",
    "Y2, Yc1 = remover_polo_infinito(1/ZZ)\n",
    "\n",
    "# Yc1 es la admitancia removida\n",
    "# extraigo C1\n",
    "C1 = Yc1/s\n",
    "\n",
    "Ginf = sp.limit(Y2, s, sp.oo)\n",
    "G0 = sp.limit(Y2, s, 0)\n",
    "\n",
    "# remuevo la menor admitancia\n",
    "R1 = 1/np.min((Ginf, G0))\n",
    "Y4 = sp.factor(sp.simplify(sp.expand(Y2 - 1/R1)))\n",
    "\n",
    "Z6, Zl1 = remover_polo_infinito(1/Y4)\n",
    "\n",
    "# Zl1  es la impedancia removida\n",
    "# extraigo L1\n",
    "L1 = Zl1/s\n",
    "\n",
    "# remuevo la menor resistencia\n",
    "Rinf = sp.limit(Z6, s, sp.oo)\n",
    "R0 = sp.limit(Z6, s, 0)\n",
    "R2 = np.min((Rinf, R0))\n",
    "Z8 = sp.factor(sp.simplify(sp.expand(Z6 - R2)))\n",
    "\n",
    "# extraigo C2\n",
    "C2 = sp.limit(1/s/Z8, s, sp.oo)\n",
    "\n",
    "Y10, Yc2 = remover_polo_infinito(1/Z8)\n",
    "# Yc1 es la admitancia removida\n",
    "# extraigo C1\n",
    "C2 = Yc2/s\n",
    "\n",
    "R3 = 1/Y10\n",
    "print(Y2)\n",
    "print(Yc1)\n",
    "print(C1)\n",
    "print(Ginf)\n",
    "print(G0)\n",
    "print(R1)\n",
    "print(R2)\n",
    "print(L1)\n",
    "print(R3)\n",
    "print(C2)\n",
    "print(Y4)\n",
    "print(Z6)\n",
    "print(Z8)\n",
    "\n",
    "'''\n",
    "# Dibujamos la red resultante:\n",
    "\n",
    "d = dibujar_puerto_entrada('',\n",
    "                        voltage_lbl = ('+', '$V$', '-'), \n",
    "                        current_lbl = '$I$')\n",
    "\n",
    "d, zz_lbl = dibujar_funcion_exc_abajo(d, \n",
    "                                          'Z',  \n",
    "                                          ZZ, \n",
    "                                          hacia_salida = True,\n",
    "                                          k_gap_width = 0.5)\n",
    "\n",
    "d = dibujar_elemento_derivacion(d, Capacitor, C1)\n",
    "\n",
    "d = dibujar_espacio_derivacion(d)\n",
    "\n",
    "d = dibujar_elemento_derivacion(d, Resistor, R1)\n",
    "    \n",
    "d = dibujar_elemento_serie(d, Inductor, L1)\n",
    "\n",
    "d = dibujar_elemento_serie(d, Resistor, R2)\n",
    "\n",
    "d = dibujar_elemento_derivacion(d, Capacitor, C2)\n",
    "\n",
    "d = dibujar_espacio_derivacion(d)\n",
    "\n",
    "d = dibujar_elemento_derivacion(d, Resistor, R3)\n",
    "\n",
    "display(d)'''"
   ]
  },
  {
   "attachments": {},
   "cell_type": "markdown",
   "metadata": {},
   "source": [
    "Podemos observar que la respuesta es la de un pasabajos con atenuación 60 $db/decada$."
   ]
  },
  {
   "attachments": {},
   "cell_type": "markdown",
   "metadata": {},
   "source": [
    "## Simulaciones"
   ]
  },
  {
   "attachments": {},
   "cell_type": "markdown",
   "metadata": {},
   "source": [
    "A continuación podemos emplear la estructura bicuad mencionada en el planteo del problema, para sintetizar una de las funciones SOS de tal manera de obtener la bicuadratica y luego mediante un simple RC pasa altos obtener la misma respuesta que el circuito anterior."
   ]
  },
  {
   "attachments": {},
   "cell_type": "markdown",
   "metadata": {},
   "source": [
    "Como podemos observar, los valores de los parametros Z de la simulación coinciden con el valor calculado mediante el método de nodos.\n",
    "En el caso del ejercicio 2, podemos observar que la respuesta en frecuencia coincide con la calculada y con la simulada en python."
   ]
  },
  {
   "attachments": {},
   "cell_type": "markdown",
   "metadata": {},
   "source": [
    "# Conclusiones:\n",
    " "
   ]
  },
  {
   "attachments": {},
   "cell_type": "markdown",
   "metadata": {},
   "source": [
    "* El método de calculo a partir de matriz de parametros es util en tanto y en cuanto podamos definir una matriz lineal sin embargo hay casos en los cuales no podemos evitar hacer análisis de nodos. De todas maneras en el caso del transformador, al usar un transformador ideal (algo puramente teórico) la limitación no sería tan importante\n",
    "* Mediante los métodos de interconexión de cuadripolos pudimos calcular muy facilmente la función transferencia de un circuito con una carga definida, al igual que con MAI. Estos métodos permiten operar de forma mas sistematica y obtener la función transferencia deseada, mediante simples operaciones matriciales. "
   ]
  }
 ],
 "metadata": {
  "kernelspec": {
   "display_name": "Python 3 (ipykernel)",
   "language": "python",
   "name": "python3"
  },
  "language_info": {
   "codemirror_mode": {
    "name": "ipython",
    "version": 3
   },
   "file_extension": ".py",
   "mimetype": "text/x-python",
   "name": "python",
   "nbconvert_exporter": "python",
   "pygments_lexer": "ipython3",
   "version": "3.10.5"
  }
 },
 "nbformat": 4,
 "nbformat_minor": 2
}
